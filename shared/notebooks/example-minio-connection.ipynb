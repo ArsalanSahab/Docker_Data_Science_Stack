{
 "cells": [
  {
   "cell_type": "markdown",
   "metadata": {},
   "source": [
    "# About\n",
    "This notebook shows the connection to the minio service"
   ]
  },
  {
   "cell_type": "markdown",
   "metadata": {},
   "source": [
    "### Setup"
   ]
  },
  {
   "cell_type": "code",
   "execution_count": null,
   "metadata": {},
   "outputs": [],
   "source": [
    "import os\n",
    "\n",
    "from minio import Minio\n",
    "\n",
    "# create a connection to the object store\n",
    "minio_client = Minio(\n",
    "    endpoint=\"minio:9000\",\n",
    "    access_key=os.environ[\"MINIO_ROOT_USER\"],\n",
    "    secret_key=os.environ[\"MINIO_ROOT_PASSWORD\"],\n",
    "    secure=False\n",
    ")\n",
    "\n",
    "# write a sample file\n",
    "with open(\"sample.txt\", \"w\") as f:\n",
    "    f.write(\"This is just a sample text\")"
   ]
  },
  {
   "cell_type": "markdown",
   "metadata": {},
   "source": [
    "### Create a new bucket if not exist"
   ]
  },
  {
   "cell_type": "code",
   "execution_count": null,
   "metadata": {},
   "outputs": [],
   "source": [
    "# create a minio bucket\n",
    "if not minio_client.bucket_exists(\"sample-bucket\"):\n",
    "    minio_client.make_bucket(\"sample-bucket\")\n",
    "else:\n",
    "    print(\"bucket already exist\")"
   ]
  },
  {
   "cell_type": "markdown",
   "metadata": {},
   "source": [
    "### Write Data"
   ]
  },
  {
   "cell_type": "code",
   "execution_count": null,
   "metadata": {},
   "outputs": [],
   "source": [
    "# create a minio bucket\n",
    "minio_client.make_bucket(\"sample-bucket\")\n",
    "\n",
    "# write the object to minio\n",
    "minio_client.fput_object(\n",
    "    bucket_name=\"sample-bucket\", \n",
    "    object_name=\"sample-file.txt\", \n",
    "    file_path=\"./sample.txt\"\n",
    ")"
   ]
  },
  {
   "cell_type": "markdown",
   "metadata": {},
   "source": [
    "### Read Data"
   ]
  },
  {
   "cell_type": "code",
   "execution_count": null,
   "metadata": {},
   "outputs": [],
   "source": [
    "minio_client.get_object(\"sample-bucket\", \"sample-file.txt\").data.decode()"
   ]
  }
 ],
 "metadata": {
  "kernelspec": {
   "display_name": "Python 3",
   "language": "python",
   "name": "python3"
  },
  "language_info": {
   "codemirror_mode": {
    "name": "ipython",
    "version": 3
   },
   "file_extension": ".py",
   "mimetype": "text/x-python",
   "name": "python",
   "nbconvert_exporter": "python",
   "pygments_lexer": "ipython3",
   "version": "3.6.5"
  }
 },
 "nbformat": 4,
 "nbformat_minor": 2
}
